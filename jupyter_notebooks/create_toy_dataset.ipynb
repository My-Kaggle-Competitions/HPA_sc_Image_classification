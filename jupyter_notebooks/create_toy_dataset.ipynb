{
 "cells": [
  {
   "cell_type": "code",
   "execution_count": 1,
   "metadata": {},
   "outputs": [],
   "source": [
    "import os\n",
    "import pandas as pd\n",
    "import numpy as np\n",
    "from imutils import paths"
   ]
  },
  {
   "cell_type": "code",
   "execution_count": 2,
   "metadata": {},
   "outputs": [],
   "source": [
    "# get all the image paths\n",
    "image_paths = list(paths.list_images('./train_toy_data/'))\n"
   ]
  },
  {
   "cell_type": "code",
   "execution_count": 3,
   "metadata": {},
   "outputs": [],
   "source": [
    "df_nrows = pd.read_csv(\"../data/train.csv\")\n",
    "df_last100 = df_nrows.tail(100)\n",
    "df_last100.to_csv(\"toy_labels.csv\")"
   ]
  },
  {
   "cell_type": "code",
   "execution_count": 7,
   "metadata": {},
   "outputs": [
    {
     "data": {
      "text/html": [
       "<div>\n",
       "<style scoped>\n",
       "    .dataframe tbody tr th:only-of-type {\n",
       "        vertical-align: middle;\n",
       "    }\n",
       "\n",
       "    .dataframe tbody tr th {\n",
       "        vertical-align: top;\n",
       "    }\n",
       "\n",
       "    .dataframe thead th {\n",
       "        text-align: right;\n",
       "    }\n",
       "</style>\n",
       "<table border=\"1\" class=\"dataframe\">\n",
       "  <thead>\n",
       "    <tr style=\"text-align: right;\">\n",
       "      <th></th>\n",
       "      <th>ID</th>\n",
       "      <th>Label</th>\n",
       "    </tr>\n",
       "  </thead>\n",
       "  <tbody>\n",
       "    <tr>\n",
       "      <th>0</th>\n",
       "      <td>ab96813a-bbca-11e8-b2bc-ac1f6b6435d0</td>\n",
       "      <td>16|2|0</td>\n",
       "    </tr>\n",
       "    <tr>\n",
       "      <th>1</th>\n",
       "      <td>aca5b05a-bbca-11e8-b2bc-ac1f6b6435d0</td>\n",
       "      <td>16|13</td>\n",
       "    </tr>\n",
       "    <tr>\n",
       "      <th>2</th>\n",
       "      <td>acbf8b1a-bbca-11e8-b2bc-ac1f6b6435d0</td>\n",
       "      <td>7|0</td>\n",
       "    </tr>\n",
       "    <tr>\n",
       "      <th>3</th>\n",
       "      <td>aceb1aaa-bbca-11e8-b2bc-ac1f6b6435d0</td>\n",
       "      <td>16</td>\n",
       "    </tr>\n",
       "    <tr>\n",
       "      <th>4</th>\n",
       "      <td>ad3be804-bbca-11e8-b2bc-ac1f6b6435d0</td>\n",
       "      <td>12|0</td>\n",
       "    </tr>\n",
       "    <tr>\n",
       "      <th>...</th>\n",
       "      <td>...</td>\n",
       "      <td>...</td>\n",
       "    </tr>\n",
       "    <tr>\n",
       "      <th>95</th>\n",
       "      <td>dd0989c4-bbca-11e8-b2bc-ac1f6b6435d0</td>\n",
       "      <td>14</td>\n",
       "    </tr>\n",
       "    <tr>\n",
       "      <th>96</th>\n",
       "      <td>dd1f7fb8-bbca-11e8-b2bc-ac1f6b6435d0</td>\n",
       "      <td>3|0</td>\n",
       "    </tr>\n",
       "    <tr>\n",
       "      <th>97</th>\n",
       "      <td>dd5cb36a-bbca-11e8-b2bc-ac1f6b6435d0</td>\n",
       "      <td>14|0</td>\n",
       "    </tr>\n",
       "    <tr>\n",
       "      <th>98</th>\n",
       "      <td>df573730-bbca-11e8-b2bc-ac1f6b6435d0</td>\n",
       "      <td>14</td>\n",
       "    </tr>\n",
       "    <tr>\n",
       "      <th>99</th>\n",
       "      <td>dea19dc6-bbca-11e8-b2bc-ac1f6b6435d0</td>\n",
       "      <td>5|0</td>\n",
       "    </tr>\n",
       "  </tbody>\n",
       "</table>\n",
       "<p>100 rows × 2 columns</p>\n",
       "</div>"
      ],
      "text/plain": [
       "                                      ID   Label\n",
       "0   ab96813a-bbca-11e8-b2bc-ac1f6b6435d0  16|2|0\n",
       "1   aca5b05a-bbca-11e8-b2bc-ac1f6b6435d0   16|13\n",
       "2   acbf8b1a-bbca-11e8-b2bc-ac1f6b6435d0     7|0\n",
       "3   aceb1aaa-bbca-11e8-b2bc-ac1f6b6435d0      16\n",
       "4   ad3be804-bbca-11e8-b2bc-ac1f6b6435d0    12|0\n",
       "..                                   ...     ...\n",
       "95  dd0989c4-bbca-11e8-b2bc-ac1f6b6435d0      14\n",
       "96  dd1f7fb8-bbca-11e8-b2bc-ac1f6b6435d0     3|0\n",
       "97  dd5cb36a-bbca-11e8-b2bc-ac1f6b6435d0    14|0\n",
       "98  df573730-bbca-11e8-b2bc-ac1f6b6435d0      14\n",
       "99  dea19dc6-bbca-11e8-b2bc-ac1f6b6435d0     5|0\n",
       "\n",
       "[100 rows x 2 columns]"
      ]
     },
     "execution_count": 7,
     "metadata": {},
     "output_type": "execute_result"
    }
   ],
   "source": [
    "df_labels = pd.read_csv(\"../data/toy_labels.csv\").drop(['Unnamed: 0'],axis=1)\n",
    "df_labels\n"
   ]
  },
  {
   "cell_type": "code",
   "execution_count": null,
   "metadata": {},
   "outputs": [],
   "source": []
  }
 ],
 "metadata": {
  "kernelspec": {
   "display_name": "Python 3",
   "language": "python",
   "name": "python3"
  },
  "language_info": {
   "codemirror_mode": {
    "name": "ipython",
    "version": 3
   },
   "file_extension": ".py",
   "mimetype": "text/x-python",
   "name": "python",
   "nbconvert_exporter": "python",
   "pygments_lexer": "ipython3",
   "version": "3.8.5"
  }
 },
 "nbformat": 4,
 "nbformat_minor": 4
}
