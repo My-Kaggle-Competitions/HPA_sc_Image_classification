{
 "cells": [
  {
   "cell_type": "code",
   "execution_count": 1,
   "metadata": {},
   "outputs": [],
   "source": [
    "import os\n",
    "import pandas as pd\n",
    "import numpy as np\n",
    "import torch\n",
    "from imutils import paths\n",
    "import imageio\n",
    "import glob\n",
    "import matplotlib.pyplot as plt\n",
    "from torch.utils.data.dataset import Dataset  # For custom data-sets\n",
    "from torchvision import transforms\n",
    "import PIL\n",
    "from PIL import Image\n"
   ]
  },
  {
   "cell_type": "code",
   "execution_count": 3,
   "metadata": {},
   "outputs": [
    {
     "name": "stdout",
     "output_type": "stream",
     "text": [
      "Label: [16, 0]\n"
     ]
    },
    {
     "data": {
      "image/png": "[encoded data removed]",
      "text/plain": [
       "<Figure size 432x288 with 1 Axes>"
      ]
     },
     "metadata": {
      "needs_background": "light"
     },
     "output_type": "display_data"
    }
   ],
   "source": [
    "def format_labels(df_labels):\n",
    "    for index in range(len(df_labels)): #iterate over the data frame \n",
    "        lbl  = df_labels[\"Label\"].iloc[index]\n",
    "        lst  = lbl.split(\"|\")\n",
    "        map_obj = map(int, lst)\n",
    "        lst_int = list(map_obj)\n",
    "        df_labels.at[index, 'Label'] = lst_int\n",
    "        labels = df_labels.loc[:,\"Label\"]\n",
    "    return (labels)\n",
    "\n",
    "\n",
    "\n",
    "image_dir = '../data/train_toy_data/'\n",
    "label_path = \"../data/toy_labels.csv\"\n",
    "\n",
    "df_labels = pd.read_csv(label_path).drop(['Unnamed: 0'],axis=1)\n",
    "labels = format_labels(df_labels)\n",
    "\n",
    "\n",
    "class HPA(Dataset):\n",
    "\n",
    "    def __init__(self, image_dir, labels, transform=None):\n",
    "        self.image_dir = image_dir\n",
    "        self.image_files = os.listdir(image_dir)\n",
    "        self.labels = labels\n",
    "        self.transform = transforms.ToTensor()\n",
    "\n",
    "\n",
    "    def __len__(self):\n",
    "        return len(self.labels)\n",
    "\n",
    "    def __getitem__(self, index):\n",
    "        image_name = os.path.join(self.image_dir, self.image_files[index])  \n",
    "        image = PIL.Image.open(image_name)\n",
    "        label = self.labels[index]\n",
    "        \n",
    "        if self.transform:\n",
    "            image = self.transform(image)\n",
    "        return (image, label)\n",
    "\n",
    "dset = HPA(image_dir, labels, transform= True)   \n",
    "train_dataset, test_dataset = torch.utils.data.random_split(dset, [70, 30])\n",
    "\n",
    "\n",
    "def show_image(image, label, dataset):\n",
    "    print(f\"Label: {label}\") \n",
    "    plt.imshow(image.permute(1,2,0))#\n",
    "    plt.show()\n",
    "\n",
    "show_image(*train_dataset[0], train_dataset)"
   ]
  },
  {
   "cell_type": "code",
   "execution_count": null,
   "metadata": {},
   "outputs": [],
   "source": []
  },
  {
   "cell_type": "code",
   "execution_count": null,
   "metadata": {},
   "outputs": [],
   "source": []
  },
  {
   "cell_type": "code",
   "execution_count": null,
   "metadata": {},
   "outputs": [],
   "source": [
    "for index in range(len(labels)): #iterate over the data frame and get IDs\n",
    "    ids = labels[\"ID\"].iloc[index]\n",
    "    \n",
    "    data =[]\n",
    "    pattern = f'../data/train_toy_data/*{str(ids)}_*.png'\n",
    "    files = glob.glob(pattern)# match the ID with filename\n",
    "    \n",
    "    for file in files:\n",
    "        data.append(file)\n",
    "        \n",
    "    \n",
    "print(data)\n",
    "    "
   ]
  },
  {
   "cell_type": "code",
   "execution_count": null,
   "metadata": {},
   "outputs": [],
   "source": [
    "import glob\n",
    "\n",
    "for index in range(len(labels)): #iterate over the data frame and get IDs\n",
    "    ids = labels[\"ID\"].iloc[index]\n",
    "    x =[]\n",
    "    pattern = f'../data/train_toy_data/*{str(ids)}_*.png'\n",
    "    files = glob.glob(pattern)# match the ID with filename\n",
    "    \n",
    "    for file in files:\n",
    "        img = imageio.imread(file)# read img to numpy\n",
    "        x.append(torch.from_numpy(img))#transform to tensor\n",
    "        xt = torch.stack(x)# stack the 4 channels\n",
    "    #print(xt.shape)\n",
    "        #i = i+1\n",
    "        \n",
    "  \n",
    "\n"
   ]
  },
  {
   "cell_type": "code",
   "execution_count": null,
   "metadata": {},
   "outputs": [],
   "source": [
    "from torch.utils.data import Dataset\n",
    "import pandas as pd\n",
    "import os\n",
    "from PIL import Image\n",
    "import torch\n",
    "\n",
    "class HPA(Dataset):\n",
    "    def __init__(self, root_dir, annotation_file, transform=None):\n",
    "        self.root_dir = '../data/train_toy_data/'\n",
    "        annotations = pd.read_csv(\"../data/toy_labels.csv\").drop(['Unnamed: 0'],axis=1)\n",
    "    \n",
    "        self.transform = transform\n",
    "\n",
    "    def __len__(self):\n",
    "        return len(self.annotations)\n",
    "\n",
    "    def __getitem__(self, index):\n",
    "        img_id = annotations.iloc[index, 0]\n",
    "        pattern = f'*{str(img_id)}_*.png'\n",
    "        img = glob.glob(pattern)# match the ID with filename\n",
    "\n",
    "        y_label = torch.tensor((annotations.iloc[index, 1]))\n",
    "\n"
   ]
  },
  {
   "cell_type": "code",
   "execution_count": null,
   "metadata": {},
   "outputs": [],
   "source": [
    "links\n",
    "https://medium.com/analytics-vidhya/creating-a-custom-dataset-and-dataloader-in-pytorch-76f210a1df5d\n",
    "https://medium.com/bivek-adhikari/creating-custom-datasets-and-dataloaders-with-pytorch-7e9d2f06b660\n"
   ]
  },
  {
   "cell_type": "code",
   "execution_count": null,
   "metadata": {},
   "outputs": [],
   "source": []
  },
  {
   "cell_type": "code",
   "execution_count": null,
   "metadata": {},
   "outputs": [],
   "source": []
  }
 ],
 "metadata": {
  "kernelspec": {
   "display_name": "Python 3",
   "language": "python",
   "name": "python3"
  },
  "language_info": {
   "codemirror_mode": {
    "name": "ipython",
    "version": 3
   },
   "file_extension": ".py",
   "mimetype": "text/x-python",
   "name": "python",
   "nbconvert_exporter": "python",
   "pygments_lexer": "ipython3",
   "version": "3.8.5"
  }
 },
 "nbformat": 4,
 "nbformat_minor": 4
}
